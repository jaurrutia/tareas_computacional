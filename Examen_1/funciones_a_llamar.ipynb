{
 "cells": [
  {
   "cell_type": "code",
   "execution_count": 1,
   "metadata": {
    "collapsed": true
   },
   "outputs": [],
   "source": [
    "def rk4(func, x_0, intervalo, args=0 ,h=0.1):\n",
    "    if intervalo[1]-intervalo[0]<10*h:\n",
    "        h=0.01*h\n",
    "    tiempo = arange(intervalo[0],intervalo[1]+h,h)\n",
    "    y = zeros((len(tiempo),len(x_0))) \n",
    "    y[0,:] = x_0\n",
    "    if args==0:\n",
    "        for i in xrange(len(tiempo)-1):\n",
    "            k1 = func(y[i,:],tiempo[i])\n",
    "            k2 = func(y[i,:]+0.5*h*k1,tiempo[i]+0.5*h)\n",
    "            k3 = func(y[i,:]+0.5*h*k2,tiempo[i]+0.5*h)\n",
    "            k4 = func(y[i,:]+h*k3,tiempo[i]+h)\n",
    "            y[i+1,:]=y[i,:]+(h/6.)*(k1+2*k2+2*k3+k4)\n",
    "    else:\n",
    "        for i in xrange(len(tiempo)-1):\n",
    "            k1 = func(y[i,:],tiempo[i],args)\n",
    "            k2 = func(y[i,:]+0.5*h*k1,tiempo[i]+0.5*h,args)\n",
    "            k3 = func(y[i,:]+0.5*h*k2,tiempo[i]+0.5*h,args)\n",
    "            k4 = func(y[i,:]+h*k3,tiempo[i]+h,args)\n",
    "            y[i+1,:]=y[i,:]+(h/6.)*(k1+2*k2+2*k3+k4)\n",
    "    return tiempo, y   "
   ]
  },
  {
   "cell_type": "code",
   "execution_count": null,
   "metadata": {
    "collapsed": true
   },
   "outputs": [],
   "source": []
  }
 ],
 "metadata": {
  "anaconda-cloud": {},
  "kernelspec": {
   "display_name": "Python [Root]",
   "language": "python",
   "name": "Python [Root]"
  },
  "language_info": {
   "codemirror_mode": {
    "name": "ipython",
    "version": 2
   },
   "file_extension": ".py",
   "mimetype": "text/x-python",
   "name": "python",
   "nbconvert_exporter": "python",
   "pygments_lexer": "ipython2",
   "version": "2.7.12"
  }
 },
 "nbformat": 4,
 "nbformat_minor": 0
}
