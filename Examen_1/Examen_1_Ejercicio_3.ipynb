{
 "cells": [
  {
   "cell_type": "markdown",
   "metadata": {},
   "source": [
    "# Tarea Examen 1\n",
    "### Ejercicio 1\n",
    "\n",
    "## Jonathan Alexis Urrutia Anguiano 414011025|"
   ]
  },
  {
   "cell_type": "code",
   "execution_count": 1,
   "metadata": {
    "collapsed": true
   },
   "outputs": [],
   "source": [
    "from numpy import *\n",
    "from pylab import *\n",
    "%matplotlib inline\n",
    "%run \"funciones_a_llamar.ipynb\""
   ]
  },
  {
   "cell_type": "markdown",
   "metadata": {},
   "source": [
    "Esta vez, tenemos una particula en una caja que rebotará cada vez que choque con la misma. Le ecuación de movimiento es la siguiente, asumiendo que hay un modelo de fricción:\n",
    "$$\n",
    "\\left(\\begin{array}{c}\\dot u_1 \\\\ \\dot v_1 \\\\ \\dot u_2\\\\ \\dot v_2\\end{array}\\right) = \\left(\\begin{array}{c} u_2 \\\\ v_2 \\\\ \\frac{1}{m} fric(u_1)\\\\-g +\\frac{1}{m} fric(v_1)\\end{array}\\right)\n",
    "$$\n",
    "Con $u_1 = x,\\, u_2 = \\dot x, \\, v_1 = y\\mbox{ y } v_2 = \\dot y$"
   ]
  },
  {
   "cell_type": "code",
   "execution_count": 2,
   "metadata": {
    "collapsed": true
   },
   "outputs": [],
   "source": [
    "def e_mov(r_v,t,fric=0, g=9.8,m=1):\n",
    "    dx = r_v[2]\n",
    "    dy = r_v[3]\n",
    "    if fric == 0:\n",
    "        dvx,dvy = 0,-g\n",
    "    else:\n",
    "        dvx = - fric([r_v[2],r_v[3]])[0]/m\n",
    "        dvy = -g- fric([r_v[2],r_v[3]])[1]/m\n",
    "    return array([dx,dy,dvx,dvy])"
   ]
  },
  {
   "cell_type": "code",
   "execution_count": 3,
   "metadata": {
    "collapsed": true
   },
   "outputs": [],
   "source": [
    "def fric_v(v,gamma=0.1):\n",
    "    f_x = gamma*v[0]\n",
    "    f_y = gamma*v[1]\n",
    "    return array([f_x,f_y]) "
   ]
  },
  {
   "cell_type": "markdown",
   "metadata": {},
   "source": [
    "La caja en donde estará la caja esta compusta de dos planos inclinados con el mismo ángulo de inclinación que se unen en un punto, una longitud total de $5m$ de largo y cuando acaban los planos inlclinados, se eleva hasta $3m$ más sobre ellos. Los angulos de inclinación serán de $\\pi/6$ y $\\pi/10$ o lo que es lo mismo, $30^\\circ$ y $18^\\circ$"
   ]
  },
  {
   "cell_type": "code",
   "execution_count": 4,
   "metadata": {
    "collapsed": false
   },
   "outputs": [],
   "source": [
    "def piso(x,angulo):\n",
    "    return tan(angulo*pi/180.)*abs(x)\n",
    "\n",
    "def techo(x,angulo):\n",
    "    y = zeros(len(x))\n",
    "    a = 5*tan(angulo*pi/180.)\n",
    "    y[:] = a + 3\n",
    "    return y\n",
    "\n",
    "def pared(pt, angulo):\n",
    "    a = 5*tan(angulo*pi/180.)\n",
    "    y = arange(a,a+3,.01)\n",
    "    x = zeros(len(y))\n",
    "    x[:] = pt\n",
    "    return array([x,y])\n",
    "\n",
    "def caja(x,angulo):\n",
    "    ang = angulo\n",
    "    pt_i = x[0]\n",
    "    pt_f = x[-1]\n",
    "    \n",
    "    p = piso(x, ang)\n",
    "    t = techo(x, ang)\n",
    "    der = pared(pt_i,ang)\n",
    "    izq = pared(pt_f,ang)\n",
    "    \n",
    "    return plot(x,p[:], x,t[:], der[0,:],der[1,:], izq[0,:],izq[1,:], color = 'red')"
   ]
  },
  {
   "cell_type": "markdown",
   "metadata": {},
   "source": [
    "Entonces ya podemos visualisar la caja :"
   ]
  },
  {
   "cell_type": "code",
   "execution_count": 5,
   "metadata": {
    "collapsed": false
   },
   "outputs": [
    {
     "data": {
      "image/png": "[encoded data removed]",
      "text/plain": [
       "<matplotlib.figure.Figure at 0x6ff35f8>"
      ]
     },
     "metadata": {},
     "output_type": "display_data"
    }
   ],
   "source": [
    "fig, ax = plt.subplots(figsize=(20, 10))\n",
    "\n",
    "angulos = array([30, 18]) #pi/6, pi/10\n",
    "equis = arange(-5,5,.01)\n",
    "\n",
    "subplot(1,2,1)\n",
    "title(r' $\\alpha = %s$' %(str(angulos[0])),fontsize = 30)\n",
    "caja(equis, angulos[0])\n",
    "\n",
    "subplot(1,2,2)\n",
    "title(r'$\\alpha = %s$' %(str(angulos[1])),fontsize = 30)\n",
    "caja(equis, angulos[1])\n",
    "show()"
   ]
  },
  {
   "cell_type": "markdown",
   "metadata": {},
   "source": [
    "Para los rebotes, hay que definir los casos para cada una de las cinco fronteras. Siempre son reflexiones en las componentes de la velocidad perpendiculares a la superficies por lo que podemos utilizar la siguiente tranformación lineal para el caso en el que rebote en los planos inclinados. \n",
    "$$\n",
    "\\left(\\begin{array}{c}x'\\\\y'\\\\\\dot x'\\\\\\dot y' \\end{array}\\right) = \\left(\\begin{array}{c c c c}1 & 0 & 0 & 0\\\\0& 1& 0 &0 \\\\0&0& \\cos\\theta & -\\sin\\theta\\\\0&0&\\sin\\theta & \\cos\\theta \\end{array}\\right) \\left(\\begin{array}{c}x\\\\y\\\\\\dot x \\\\ \\dot y \\end{array}\\right) \n",
    "$$\n",
    "Se utilizarará $\\theta = \\alpha$ si cae en el lado izquierdo o $\\theta = -\\alpha$. Para el caso del techo o de las paredes no es necesario hacer rotaciones en las velocidades para saber qué componentes son reflejadas."
   ]
  },
  {
   "cell_type": "code",
   "execution_count": 6,
   "metadata": {
    "collapsed": false
   },
   "outputs": [],
   "source": [
    "def rot_vel(ang):\n",
    "    ang = ang*pi/180.\n",
    "    return array([1,0,0,0]),array([0,1,0,0]),array([0,0,cos(ang),-sin(ang)]),array([0,0,sin(ang),cos(ang)])"
   ]
  },
  {
   "cell_type": "code",
   "execution_count": 7,
   "metadata": {
    "collapsed": false
   },
   "outputs": [],
   "source": [
    "def rebote_piso(r_v_i,mi_dt,ang,modelo_fric=0):\n",
    "    dt_busqueda = mi_dt/2\n",
    "    y_izq = r_v_i\n",
    "    t,sol = rk4(e_mov,r_v_i,[0,dt_busqueda],modelo_fric)\n",
    "    y_med = sol[-1,:]\n",
    "    \n",
    "    while abs(y_izq[1]-piso(y_izq[0],ang))>1e-5:\n",
    "        if (y_izq[1]-piso(y_izq[0],ang))*(y_med[1]-piso(y_med[0],ang))<0:\n",
    "            reinicio = y_izq\n",
    "        else:\n",
    "            reinicio = y_med\n",
    "        dt_busqueda = dt_busqueda/2\n",
    "        t, sol = rk4(e_mov, reinicio,[0,dt_busqueda],modelo_fric)\n",
    "        y_izq = reinicio\n",
    "        y_med = sol[-1,:]\n",
    "    y_izq = dot(rot_vel(ang),y_izq)\n",
    "    y_izq = array([y_izq[0],y_izq[1],y_izq[2],-y_izq[3]])\n",
    "    return y_izq"
   ]
  },
  {
   "cell_type": "code",
   "execution_count": 8,
   "metadata": {
    "collapsed": true
   },
   "outputs": [],
   "source": [
    "def rebote_pared(r_v_i,mi_dt,modelo_fric=0):\n",
    "    dt_busqueda = mi_dt/2\n",
    "    y_izq = r_v_i\n",
    "    t,sol = rk4(e_mov,r_v_i,[0,dt_busqueda],modelo_fric)\n",
    "    y_med = sol[-1,:]\n",
    "    pared = sign(y_izq[0])*5\n",
    "    \n",
    "    while abs(y_izq[0]-pared)>1e-5:\n",
    "        if (y_izq[0]-pared)*(y_med[0]-pared)<0:\n",
    "            reinicio = y_izq\n",
    "        else:\n",
    "            reinicio = y_med\n",
    "        dt_busqueda = dt_busqueda/2\n",
    "        t, sol = rk4(e_mov, reinicio,[0,dt_busqueda],modelo_fric)\n",
    "        y_izq = reinicio\n",
    "        y_med = sol[-1,:]\n",
    "    y_izq = array([y_izq[0],y_izq[1],y_izq[2],-y_izq[3]])\n",
    "    return y_izq"
   ]
  },
  {
   "cell_type": "code",
   "execution_count": 9,
   "metadata": {
    "collapsed": true
   },
   "outputs": [],
   "source": [
    "def rebote_techo(r_v_i,mi_dt,ang,modelo_fric=0):\n",
    "    dt_busqueda = mi_dt/2\n",
    "    y_izq = r_v_i\n",
    "    t,sol = rk4(e_mov,r_v_i,[0,dt_busqueda],modelo_fric)\n",
    "    y_med = sol[-1,:]\n",
    "    \n",
    "    while abs(y_izq[1]-techo([y_izq[0]],ang))>1e-5:\n",
    "        if (y_izq[1]-techo([y_izq[0]],ang))*(y_med[1]-techo([y_med[0]],ang))<0:\n",
    "            reinicio = y_izq\n",
    "        else:\n",
    "            reinicio = y_med\n",
    "        dt_busqueda = dt_busqueda/2\n",
    "        t, sol = rk4(e_mov, reinicio,[0,dt_busqueda],modelo_fric)\n",
    "        y_izq = reinicio\n",
    "        y_med = sol[-1,:]\n",
    "    y_izq = array([y_izq[0],y_izq[1],y_izq[2],-y_izq[3]])\n",
    "    return y_izq"
   ]
  },
  {
   "cell_type": "code",
   "execution_count": 10,
   "metadata": {
    "collapsed": false
   },
   "outputs": [],
   "source": [
    "def datos_graf(cond_ini, ang, modelo_fric=0,pts=100, dt=0.1):\n",
    "    N = pts\n",
    "    inicio = cond_ini\n",
    "    trayectoria = zeros((N,len(inicio)))\n",
    "    mi_dt = dt\n",
    "    trayectoria[0,:] = array(inicio)\n",
    "    for i in range(N-1):\n",
    "        t,sol_dt = rk4(e_mov,trayectoria[i,:],[0,mi_dt], modelo_fric)\n",
    "    \n",
    "        if sol_dt[-1,:][0] < 0 and sol_dt[-1,:][1]-piso(sol_dt[-1,:][0], ang) < 0:\n",
    "            y_izq = rebote_piso(trayectoria[i,:],mi_dt,ang)    \n",
    "            trayectoria[i+1,:] = y_izq\n",
    "        elif sol_dt[-1,:][0] > 0 and sol_dt[-1,:][1]-piso(sol_dt[-1,:][0], ang) < 0:\n",
    "            y_izq = rebote_piso(trayectoria[i,:],mi_dt,-ang)    \n",
    "            trayectoria[i+1,:] = y_izq\n",
    "        elif 5 < abs(sol_dt[-1,:][0]):\n",
    "            y_izq = rebote_pared(trayectoria[i,:],mi_dt,ang)    \n",
    "            trayectoria[i+1,:] = y_izq        \n",
    "        elif sol_dt[-1,:][1] > techo([sol_dt[-1,:][1]],ang):\n",
    "            y_izq = rebote_techo(trayectoria[i,:],mi_dt,ang)    \n",
    "            trayectoria[i+1,:] = y_izq        \n",
    "        else:\n",
    "            trayectoria[i+1,:] = sol_dt[-1,:]\n",
    "    return trayectoria"
   ]
  },
  {
   "cell_type": "code",
   "execution_count": 13,
   "metadata": {
    "collapsed": true
   },
   "outputs": [],
   "source": [
    "modelos = [0 , fric_v]\n",
    "etiquetas = ['Sin friccion','Proporcinal a V']"
   ]
  },
  {
   "cell_type": "code",
   "execution_count": 15,
   "metadata": {
    "collapsed": false
   },
   "outputs": [
    {
     "data": {
      "image/png": "[encoded data removed]",
      "text/plain": [
       "<matplotlib.figure.Figure at 0x83f5080>"
      ]
     },
     "metadata": {},
     "output_type": "display_data"
    }
   ],
   "source": [
    "angulo = 30*pi/180\n",
    "inicio = [-2*5*cos(angulo)**2/3, 5*sin(2*angulo)/3+1,0,0]\n",
    "angulo = 30\n",
    "\n",
    "fig, ax = plt.subplots(figsize=(15, 10))\n",
    "grid(True)\n",
    "title(r' Angulo $\\alpha = 30^{\\circ}$',fontsize = 30),xlabel('x',fontsize=30),ylabel('y',fontsize = 30)\n",
    "\n",
    "trayectoria = datos_graf(inicio,angulo,0,5)\n",
    "plot(trayectoria[:,0],trayectoria[:,1],'o-')\n",
    "caja(equis, angulo)\n",
    "show()"
   ]
  },
  {
   "cell_type": "code",
   "execution_count": null,
   "metadata": {
    "collapsed": false
   },
   "outputs": [],
   "source": [
    "piso([10],15)"
   ]
  },
  {
   "cell_type": "code",
   "execution_count": null,
   "metadata": {
    "collapsed": true
   },
   "outputs": [],
   "source": []
  },
  {
   "cell_type": "code",
   "execution_count": null,
   "metadata": {
    "collapsed": true
   },
   "outputs": [],
   "source": []
  },
  {
   "cell_type": "code",
   "execution_count": null,
   "metadata": {
    "collapsed": true
   },
   "outputs": [],
   "source": []
  }
 ],
 "metadata": {
  "anaconda-cloud": {},
  "kernelspec": {
   "display_name": "Python [Root]",
   "language": "python",
   "name": "Python [Root]"
  },
  "language_info": {
   "codemirror_mode": {
    "name": "ipython",
    "version": 2
   },
   "file_extension": ".py",
   "mimetype": "text/x-python",
   "name": "python",
   "nbconvert_exporter": "python",
   "pygments_lexer": "ipython2",
   "version": "2.7.12"
  }
 },
 "nbformat": 4,
 "nbformat_minor": 0
}
